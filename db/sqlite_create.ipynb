{
 "cells": [
  {
   "cell_type": "code",
   "execution_count": 9,
   "id": "be7e6e35-4a00-4999-9b16-a6498eeeba28",
   "metadata": {},
   "outputs": [],
   "source": [
    "import sqlite3"
   ]
  },
  {
   "cell_type": "code",
   "execution_count": 10,
   "id": "15a8bacb-5662-4717-a444-d655f8660572",
   "metadata": {},
   "outputs": [],
   "source": [
    "conn = sqlite3.connect('mai.sqlite3')"
   ]
  },
  {
   "cell_type": "code",
   "execution_count": 11,
   "id": "2496af33-d9de-4a85-a142-491b67a68e05",
   "metadata": {},
   "outputs": [],
   "source": [
    "c = conn.cursor()"
   ]
  },
  {
   "cell_type": "code",
   "execution_count": 21,
   "id": "7329450a-5588-4b3c-849b-c49eb26c8c29",
   "metadata": {},
   "outputs": [
    {
     "data": {
      "text/plain": [
       "'afasfasf'"
      ]
     },
     "execution_count": 21,
     "metadata": {},
     "output_type": "execute_result"
    }
   ],
   "source": [
    "s='afasfasf'\n",
    "s[:100]"
   ]
  },
  {
   "cell_type": "code",
   "execution_count": 5,
   "id": "f8bd0c53-7277-4a64-b0b8-7da16e6f1058",
   "metadata": {},
   "outputs": [
    {
     "ename": "ProgrammingError",
     "evalue": "Cannot operate on a closed database.",
     "output_type": "error",
     "traceback": [
      "\u001b[1;31m---------------------------------------------------------------------------\u001b[0m",
      "\u001b[1;31mProgrammingError\u001b[0m                          Traceback (most recent call last)",
      "Cell \u001b[1;32mIn[5], line 21\u001b[0m\n\u001b[0;32m     10\u001b[0m create_creation_table \u001b[38;5;241m=\u001b[39m \u001b[38;5;124m\"\"\"\u001b[39m\n\u001b[0;32m     11\u001b[0m \u001b[38;5;124mCREATE TABLE creations (\u001b[39m\n\u001b[0;32m     12\u001b[0m \u001b[38;5;124m    id INTEGER PRIMARY KEY AUTOINCREMENT,\u001b[39m\n\u001b[1;32m   (...)\u001b[0m\n\u001b[0;32m     16\u001b[0m \u001b[38;5;124m);\u001b[39m\n\u001b[0;32m     17\u001b[0m \u001b[38;5;124m\"\"\"\u001b[39m\n\u001b[0;32m     20\u001b[0m \u001b[38;5;66;03m# Execute SQL commands to create tables\u001b[39;00m\n\u001b[1;32m---> 21\u001b[0m \u001b[43mc\u001b[49m\u001b[38;5;241;43m.\u001b[39;49m\u001b[43mexecute\u001b[49m\u001b[43m(\u001b[49m\u001b[43mcreate_users_table\u001b[49m\u001b[43m)\u001b[49m\n\u001b[0;32m     22\u001b[0m c\u001b[38;5;241m.\u001b[39mexecute(create_creation_table)\n\u001b[0;32m     24\u001b[0m \u001b[38;5;66;03m# Commit the changes and close the connection\u001b[39;00m\n",
      "\u001b[1;31mProgrammingError\u001b[0m: Cannot operate on a closed database."
     ]
    }
   ],
   "source": [
    "create_users_table = \"\"\"\n",
    "CREATE TABLE users (\n",
    "    id INTEGER PRIMARY KEY AUTOINCREMENT,\n",
    "    username TEXT NOT NULL UNIQUE,\n",
    "    email TEXT NOT NULL UNIQUE,\n",
    "    password TEXT NOT NULL\n",
    ");\n",
    "\"\"\"\n",
    "\n",
    "create_creation_table = \"\"\"\n",
    "CREATE TABLE creations (\n",
    "    id INTEGER PRIMARY KEY AUTOINCREMENT,\n",
    "    user_id INTEGER,\n",
    "    type TEXT NOT NULL,\n",
    "    content TEXT NOT NULL\n",
    ");\n",
    "\"\"\"\n",
    "\n",
    "\n",
    "# Execute SQL commands to create tables\n",
    "c.execute(create_users_table)\n",
    "c.execute(create_creation_table)\n",
    "\n",
    "# Commit the changes and close the connection\n",
    "conn.commit()\n",
    "conn.close()\n"
   ]
  },
  {
   "cell_type": "code",
   "execution_count": 16,
   "id": "e7b0acaf-31b6-4deb-a214-bab0040310e0",
   "metadata": {},
   "outputs": [
    {
     "name": "stdout",
     "output_type": "stream",
     "text": [
      "(1, 3, 'text', 'eXHaz0izcU4C7pRkOA4hZ4Z06eOzOJZqex0hIFrPBepRhdUDa1')\n",
      "(2, 3, 'video', '91PigpIcSBZALVzLluDm79Vd3gHIGCVCDwFrjV1z1xuOHT85JM')\n",
      "(3, 1, 'image', 'DHQUD99Zn10N583SvVIgibT9R9XTBtsMB2AISBrET9EwxeIWsR')\n",
      "(4, 1, 'video', 'JxCyRcfT9Xv7qRopNdMtfEl0ZeQGRhGbCFVqbLcpYPOPPh2wEG')\n",
      "(5, 2, 'image', 'Xgcs6r56pCJAzgjLZdsewvdB9CPix4Obwm4slDAA6NBTknLxwY')\n",
      "(6, 2, 'image', 'Drrj13oeToYUrxm1vQlSchzgpBGFNr8DKvzT9s5o80NzHHjmfx')\n",
      "(7, 1, 'video', 'SMDejTZSNctQyTJzq1pm6X5CwvwUbX9uHzhxSNQA6r47JVc2y1')\n",
      "(8, 1, 'image', 'Ir9NAS5kREimHicN7DONFIToI1cpPGTp2KB3y8XVxAdrw76rjN')\n",
      "(9, 1, 'text', 'tHGrAMMbYhUwRHAG9W1bzHeVwKPJ1Qixvt3ooUGE0YLr0amzqJ')\n",
      "(10, 2, 'video', 'jmx3fWwNZCCZhlzSEfmZFDq1B72xZ6t1xnhjdBAYy75qJIVmEu')\n",
      "(11, 3, 'image', 'XeI0ZEU8sN34XXjX6jy75E2PwoVWSVngClzIwfmgyHRPNYmuMs')\n",
      "(12, 2, 'text', 'bV4WLyoBE7hGY6GNg1SjQYt9vm8WqqvNIL3z8lUEN6sdWOsQlv')\n",
      "(13, 3, 'image', 'jfepkUWDPgHqJURnadAIAMSLW3mo6dIbUJiK8H6L7B66Pj5GKg')\n",
      "(14, 1, 'text', 'wwN5qNIDht6o39QBbmEgqR4OfPlqFqszNVsueyENF9Icec3CtD')\n",
      "(15, 1, 'image', 'Avw6cWV6QLtSg3I3679Ota9YoQCF0MIScbRYFIiGhERuXod5W4')\n",
      "(16, 2, 'video', 'pfm2JGjFYRRdroOBsYaahk6Q2nL5duAp2g4rVzoA0NLeOfJ3Bw')\n",
      "(17, 1, 'video', 'EDjPMsC8rT2SgqVJXiQIiLNsfEI3LdqydYsUNjPvxoc5brRIBx')\n",
      "(18, 2, 'video', 'W8IW065HaFMXH00KiYRvuflTDiwPJlxClOCQPQILl6KCNKItTm')\n",
      "(19, 2, 'video', 'lsIwCMnAwcAypiJEPBA1j8T6OHuSuzTuvIEdpblzolzHGYAHGk')\n",
      "(20, 2, 'video', 'dzQ19UaSWI252p970kJwM31jfI8bMUQTIU24rm2PPIvJSsDh2i')\n"
     ]
    }
   ],
   "source": [
    "import sqlite3\n",
    "import random\n",
    "import string\n",
    "\n",
    "# 连接到SQLite数据库\n",
    "conn = sqlite3.connect('mai.sqlite3')\n",
    "c = conn.cursor()\n",
    "\n",
    "# 假设 user_ids 是从现有的 users 表中获取的\n",
    "# 这里为了演示，假设用户 ID 是 1, 2 和 3\n",
    "user_ids = [1, 2, 3]\n",
    "\n",
    "# 生成随机内容\n",
    "def random_string(length=50):\n",
    "    letters = string.ascii_letters + string.digits\n",
    "    return ''.join(random.choice(letters) for i in range(length))\n",
    "\n",
    "# 插入随机的 creations 数据\n",
    "creation_data = []\n",
    "for _ in range(10):  # 插入 10 条数据\n",
    "    user_id = random.choice(user_ids)\n",
    "    type = random.choice(['text', 'image', 'video'])\n",
    "    content = random_string()\n",
    "    creation_data.append((user_id, type, content))\n",
    "\n",
    "# 执行插入操作\n",
    "for creation in creation_data:\n",
    "    c.execute('INSERT INTO creations (user_id, type, content) VALUES (?, ?, ?)', creation)\n",
    "\n",
    "# 打印插入的数据以验证\n",
    "c.execute('SELECT * FROM creations')\n",
    "rows = c.fetchall()\n",
    "for row in rows:\n",
    "    print(row)\n",
    "\n",
    "# 提交更改并关闭连接\n",
    "conn.commit()\n",
    "conn.close()\n"
   ]
  },
  {
   "cell_type": "code",
   "execution_count": 20,
   "id": "5bceeda7-2987-4956-a31c-dc81d884f667",
   "metadata": {},
   "outputs": [
    {
     "name": "stdout",
     "output_type": "stream",
     "text": [
      "(1, 3, 'text', 'eXHaz0izcU4C7pRkOA4hZ4Z06eOzOJZqex0hIFrPBepRhdUDa1')\n",
      "(2, 3, 'video', '91PigpIcSBZALVzLluDm79Vd3gHIGCVCDwFrjV1z1xuOHT85JM')\n",
      "(3, 1, 'image', 'DHQUD99Zn10N583SvVIgibT9R9XTBtsMB2AISBrET9EwxeIWsR')\n",
      "(4, 1, 'video', 'JxCyRcfT9Xv7qRopNdMtfEl0ZeQGRhGbCFVqbLcpYPOPPh2wEG')\n",
      "(5, 2, 'image', 'Xgcs6r56pCJAzgjLZdsewvdB9CPix4Obwm4slDAA6NBTknLxwY')\n",
      "(6, 2, 'image', 'Drrj13oeToYUrxm1vQlSchzgpBGFNr8DKvzT9s5o80NzHHjmfx')\n",
      "(7, 1, 'video', 'SMDejTZSNctQyTJzq1pm6X5CwvwUbX9uHzhxSNQA6r47JVc2y1')\n",
      "(8, 1, 'image', 'Ir9NAS5kREimHicN7DONFIToI1cpPGTp2KB3y8XVxAdrw76rjN')\n",
      "(9, 1, 'text', 'tHGrAMMbYhUwRHAG9W1bzHeVwKPJ1Qixvt3ooUGE0YLr0amzqJ')\n",
      "(10, 2, 'video', 'jmx3fWwNZCCZhlzSEfmZFDq1B72xZ6t1xnhjdBAYy75qJIVmEu')\n",
      "(11, 3, 'image', 'XeI0ZEU8sN34XXjX6jy75E2PwoVWSVngClzIwfmgyHRPNYmuMs')\n",
      "(12, 2, 'text', 'bV4WLyoBE7hGY6GNg1SjQYt9vm8WqqvNIL3z8lUEN6sdWOsQlv')\n",
      "(13, 3, 'image', 'jfepkUWDPgHqJURnadAIAMSLW3mo6dIbUJiK8H6L7B66Pj5GKg')\n",
      "(14, 1, 'text', 'wwN5qNIDht6o39QBbmEgqR4OfPlqFqszNVsueyENF9Icec3CtD')\n",
      "(15, 1, 'image', 'Avw6cWV6QLtSg3I3679Ota9YoQCF0MIScbRYFIiGhERuXod5W4')\n",
      "(16, 2, 'video', 'pfm2JGjFYRRdroOBsYaahk6Q2nL5duAp2g4rVzoA0NLeOfJ3Bw')\n",
      "(17, 1, 'video', 'EDjPMsC8rT2SgqVJXiQIiLNsfEI3LdqydYsUNjPvxoc5brRIBx')\n",
      "(18, 2, 'video', 'W8IW065HaFMXH00KiYRvuflTDiwPJlxClOCQPQILl6KCNKItTm')\n",
      "(19, 2, 'video', 'lsIwCMnAwcAypiJEPBA1j8T6OHuSuzTuvIEdpblzolzHGYAHGk')\n",
      "(20, 2, 'video', 'dzQ19UaSWI252p970kJwM31jfI8bMUQTIU24rm2PPIvJSsDh2i')\n",
      "(21, 1, 'text', 'Introducing our latest line of eco-friendly cosmetics! 🌿🐰 Discover biodegradable packaging, cruelty-free testing, and all-natural ingredients. Join young adults passionate about sustainable living today! #EcoFriendly #GreenBeauty')\n"
     ]
    }
   ],
   "source": [
    "conn = sqlite3.connect('mai.sqlite3')\n",
    "c = conn.cursor()\n",
    "c.execute('SELECT * FROM creations')\n",
    "rows = c.fetchall()\n",
    "for row in rows:\n",
    "    print(row)\n",
    "\n",
    "# 提交更改并关闭连接\n",
    "conn.commit()\n",
    "conn.close()\n"
   ]
  },
  {
   "cell_type": "code",
   "execution_count": 5,
   "id": "f477c18b-c48f-49f6-8dff-8112a534bb1c",
   "metadata": {},
   "outputs": [
    {
     "ename": "ProgrammingError",
     "evalue": "Cannot operate on a closed database.",
     "output_type": "error",
     "traceback": [
      "\u001b[1;31m---------------------------------------------------------------------------\u001b[0m",
      "\u001b[1;31mProgrammingError\u001b[0m                          Traceback (most recent call last)",
      "Cell \u001b[1;32mIn[5], line 21\u001b[0m\n\u001b[0;32m     10\u001b[0m create_creation_table \u001b[38;5;241m=\u001b[39m \u001b[38;5;124m\"\"\"\u001b[39m\n\u001b[0;32m     11\u001b[0m \u001b[38;5;124mCREATE TABLE creations (\u001b[39m\n\u001b[0;32m     12\u001b[0m \u001b[38;5;124m    id INTEGER PRIMARY KEY AUTOINCREMENT,\u001b[39m\n\u001b[1;32m   (...)\u001b[0m\n\u001b[0;32m     16\u001b[0m \u001b[38;5;124m);\u001b[39m\n\u001b[0;32m     17\u001b[0m \u001b[38;5;124m\"\"\"\u001b[39m\n\u001b[0;32m     20\u001b[0m \u001b[38;5;66;03m# Execute SQL commands to create tables\u001b[39;00m\n\u001b[1;32m---> 21\u001b[0m \u001b[43mc\u001b[49m\u001b[38;5;241;43m.\u001b[39;49m\u001b[43mexecute\u001b[49m\u001b[43m(\u001b[49m\u001b[43mcreate_users_table\u001b[49m\u001b[43m)\u001b[49m\n\u001b[0;32m     22\u001b[0m c\u001b[38;5;241m.\u001b[39mexecute(create_creation_table)\n\u001b[0;32m     24\u001b[0m \u001b[38;5;66;03m# Commit the changes and close the connection\u001b[39;00m\n",
      "\u001b[1;31mProgrammingError\u001b[0m: Cannot operate on a closed database."
     ]
    }
   ],
   "source": [
    "create_users_table = \"\"\"\n",
    "CREATE TABLE users (\n",
    "    id INTEGER PRIMARY KEY AUTOINCREMENT,\n",
    "    username TEXT NOT NULL UNIQUE,\n",
    "    email TEXT NOT NULL UNIQUE,\n",
    "    password TEXT NOT NULL\n",
    ");\n",
    "\"\"\"\n",
    "\n",
    "create_creation_table = \"\"\"\n",
    "CREATE TABLE creations (\n",
    "    id INTEGER PRIMARY KEY AUTOINCREMENT,\n",
    "    user_id INTEGER,\n",
    "    type TEXT NOT NULL,\n",
    "    content TEXT NOT NULL\n",
    ");\n",
    "\"\"\"\n",
    "\n",
    "\n",
    "# Execute SQL commands to create tables\n",
    "c.execute(create_users_table)\n",
    "c.execute(create_creation_table)\n",
    "\n",
    "# Commit the changes and close the connection\n",
    "conn.commit()\n",
    "conn.close()\n"
   ]
  },
  {
   "cell_type": "code",
   "execution_count": 14,
   "id": "184d1f1b-0b09-437a-82fc-215317300b4a",
   "metadata": {},
   "outputs": [],
   "source": [
    "c.execute('SELECT * FROM creations')\n",
    "rows = c.fetchall()\n",
    "\n",
    "# 打印查询结果\n",
    "for row in rows:\n",
    "    print(row)"
   ]
  },
  {
   "cell_type": "code",
   "execution_count": 10,
   "id": "9c702a7e-fadc-4890-8e2b-7f926d5b5d44",
   "metadata": {},
   "outputs": [],
   "source": [
    "conn.close()"
   ]
  },
  {
   "cell_type": "code",
   "execution_count": null,
   "id": "99cbc495-92a9-4efa-8b09-06ec2c59897c",
   "metadata": {},
   "outputs": [],
   "source": [
    "[{'id': 1, 'user_id': 1, 'type': 'text', 'content': 'Introducing our latest line of eco-friendly cosmetics! 🌿🐰 Discover biodegradable packaging, cruelty-free testing, and all-natural ingredients. Join young adults passionate about sustainable living today! #EcoFriendly #GreenBeauty'}]"
   ]
  },
  {
   "cell_type": "code",
   "execution_count": null,
   "id": "04e0e828-e20f-48ec-9653-18d7da467dac",
   "metadata": {},
   "outputs": [],
   "source": []
  },
  {
   "cell_type": "code",
   "execution_count": null,
   "id": "023a68c7-090a-42e9-9784-f1f4e88244d4",
   "metadata": {},
   "outputs": [],
   "source": []
  },
  {
   "cell_type": "code",
   "execution_count": null,
   "id": "26e40914-4e90-420f-a158-d96f92b8b710",
   "metadata": {},
   "outputs": [],
   "source": []
  },
  {
   "cell_type": "code",
   "execution_count": null,
   "id": "3b0f1000-72bd-49a9-9175-94e65edffec3",
   "metadata": {},
   "outputs": [],
   "source": [
    "\n",
    "create_messages_table = \"\"\"\n",
    "CREATE TABLE messages (\n",
    "  id INTEGER PRIMARY KEY,\n",
    "  user_id INTEGER,\n",
    "  room_id INTEGER,\n",
    "  send_time DATETIME,\n",
    "  body TEXT,\n",
    "  FOREIGN KEY(user_id) REFERENCES users(id),\n",
    "  FOREIGN KEY(room_id) REFERENCES rooms(id)\n",
    ");\n",
    "\"\"\"\n",
    "\n",
    "create_user_channel_read_status_table = \"\"\"\n",
    "CREATE TABLE UserRoomReadStatus (\n",
    "    id INTEGER PRIMARY KEY AUTOINCREMENT,\n",
    "    user_id INTEGER NOT NULL,\n",
    "    room_id INTEGER NOT NULL,\n",
    "    last_read_timestamp DATETIME NOT NULL,\n",
    "    FOREIGN KEY (user_id) REFERENCES users(id),\n",
    "    FOREIGN KEY (room_id) REFERENCES rooms(id),\n",
    "    UNIQUE (user_id, room_id) ON CONFLICT REPLACE\n",
    ");\n",
    "\"\"\"\n",
    "\n",
    "create_replies_table = \"\"\"\n",
    "CREATE TABLE replies (\n",
    "    id INTEGER PRIMARY KEY AUTOINCREMENT,\n",
    "    message_id INTEGER,\n",
    "    user_id INTEGER,\n",
    "    body TEXT,\n",
    "    send_time DATETIME,\n",
    "    FOREIGN KEY (message_id) REFERENCES messages(id),\n",
    "    FOREIGN KEY (user_id) REFERENCES users(id)\n",
    ");\n",
    "\"\"\"\n",
    "\n",
    "create_emoji_table = \"\"\"\n",
    "CREATE TABLE emoji_reactions (\n",
    "    id INTEGER PRIMARY KEY AUTOINCREMENT,\n",
    "    reactable_id INTEGER NOT NULL,\n",
    "    reactable_type TEXT NOT NULL CHECK (reactable_type IN ('message', 'reply')),\n",
    "    user_id INTEGER,\n",
    "    user_name TEXT,\n",
    "    emoji TEXT NOT NULL,\n",
    "    created_at DATETIME DEFAULT CURRENT_TIMESTAMP,\n",
    "    FOREIGN KEY (user_id) REFERENCES users(id)\n",
    ");\n",
    "\"\"\""
   ]
  }
 ],
 "metadata": {
  "kernelspec": {
   "display_name": "Python 3 (ipykernel)",
   "language": "python",
   "name": "python3"
  },
  "language_info": {
   "codemirror_mode": {
    "name": "ipython",
    "version": 3
   },
   "file_extension": ".py",
   "mimetype": "text/x-python",
   "name": "python",
   "nbconvert_exporter": "python",
   "pygments_lexer": "ipython3",
   "version": "3.10.11"
  }
 },
 "nbformat": 4,
 "nbformat_minor": 5
}
